{
 "cells": [
  {
   "cell_type": "code",
   "execution_count": 146,
   "metadata": {},
   "outputs": [],
   "source": [
    "import pandas as pd\n",
    "import numpy as np\n",
    "import matplotlib\n",
    "\n",
    "\n",
    "    "
   ]
  },
  {
   "cell_type": "code",
   "execution_count": 147,
   "metadata": {},
   "outputs": [],
   "source": [
    "df = pd.read_csv(\"res.csv\")\n"
   ]
  },
  {
   "cell_type": "code",
   "execution_count": 148,
   "metadata": {},
   "outputs": [
    {
     "data": {
      "application/vnd.plotly.v1+json": {
       "config": {
        "plotlyServerURL": "https://plot.ly"
       },
       "data": [
        {
         "hovertemplate": "symbol=DOGEUSD<br>date=%{x}<br>delta_percent=%{y}<extra></extra>",
         "legendgroup": "DOGEUSD",
         "line": {
          "color": "#636efa",
          "dash": "solid"
         },
         "mode": "lines",
         "name": "DOGEUSD",
         "orientation": "v",
         "showlegend": true,
         "type": "scatter",
         "x": [
          "2021-02-20T15:32:33-05:00",
          "2021-02-20T15:32:34-05:00",
          "2021-02-20T15:32:35-05:00",
          "2021-02-20T15:32:36-05:00",
          "2021-02-20T15:32:37-05:00",
          "2021-02-20T15:32:38-05:00",
          "2021-02-20T15:32:39-05:00",
          "2021-02-20T15:32:40-05:00",
          "2021-02-20T15:32:41-05:00",
          "2021-02-20T15:32:42-05:00",
          "2021-02-20T15:32:43-05:00",
          "2021-02-20T15:32:45-05:00",
          "2021-02-20T15:32:46-05:00",
          "2021-02-20T15:32:47-05:00",
          "2021-02-20T15:32:48-05:00",
          "2021-02-20T15:32:49-05:00",
          "2021-02-20T15:32:50-05:00",
          "2021-02-20T15:32:52-05:00",
          "2021-02-20T15:32:53-05:00",
          "2021-02-20T15:32:54-05:00",
          "2021-02-20T15:32:55-05:00",
          "2021-02-20T15:32:56-05:00",
          "2021-02-20T15:32:57-05:00",
          "2021-02-20T15:32:58-05:00",
          "2021-02-20T15:32:59-05:00",
          "2021-02-20T15:33:00-05:00",
          "2021-02-20T15:33:01-05:00",
          "2021-02-20T15:33:02-05:00",
          "2021-02-20T15:33:03-05:00",
          "2021-02-20T15:33:04-05:00",
          "2021-02-20T15:33:05-05:00",
          "2021-02-20T15:33:06-05:00",
          "2021-02-20T15:33:08-05:00",
          "2021-02-20T15:33:09-05:00",
          "2021-02-20T15:33:10-05:00"
         ],
         "xaxis": "x",
         "y": [
          -0.027010966452384055,
          -0.01800731096826165,
          -0.03601462193650646,
          -0.0018007310968413172,
          -0.0018007310968413172,
          -0.0018007310968413172,
          -0.0018007310968413172,
          -0.016206579871437168,
          0.0036014621936489625,
          0.027010966452367214,
          0.0054021932904734435,
          0.012605117677771371,
          0.01620657987142033,
          0.023409504258718256,
          -0.057623395098417074,
          -0.05942412619524155,
          -0.039616084130172265,
          -0.039616084130172265,
          -0.01800731096826165,
          -0.021608773161910608,
          -0.01800731096826165,
          -0.01800731096826165,
          -0.014405848774612684,
          -0.012605117677788205,
          -0.01800731096826165,
          0.007202924387297925,
          0.007202924387297925,
          0.007202924387297925,
          0.028811697549208537,
          0.028811697549208537,
          0.027010966452367214,
          0.027010966452367214,
          0,
          -0.04141681522699674,
          -0.04141681522699674
         ],
         "yaxis": "y"
        }
       ],
       "layout": {
        "legend": {
         "title": {
          "text": "symbol"
         },
         "tracegroupgap": 0
        },
        "margin": {
         "t": 60
        },
        "template": {
         "data": {
          "bar": [
           {
            "error_x": {
             "color": "#2a3f5f"
            },
            "error_y": {
             "color": "#2a3f5f"
            },
            "marker": {
             "line": {
              "color": "#E5ECF6",
              "width": 0.5
             }
            },
            "type": "bar"
           }
          ],
          "barpolar": [
           {
            "marker": {
             "line": {
              "color": "#E5ECF6",
              "width": 0.5
             }
            },
            "type": "barpolar"
           }
          ],
          "carpet": [
           {
            "aaxis": {
             "endlinecolor": "#2a3f5f",
             "gridcolor": "white",
             "linecolor": "white",
             "minorgridcolor": "white",
             "startlinecolor": "#2a3f5f"
            },
            "baxis": {
             "endlinecolor": "#2a3f5f",
             "gridcolor": "white",
             "linecolor": "white",
             "minorgridcolor": "white",
             "startlinecolor": "#2a3f5f"
            },
            "type": "carpet"
           }
          ],
          "choropleth": [
           {
            "colorbar": {
             "outlinewidth": 0,
             "ticks": ""
            },
            "type": "choropleth"
           }
          ],
          "contour": [
           {
            "colorbar": {
             "outlinewidth": 0,
             "ticks": ""
            },
            "colorscale": [
             [
              0,
              "#0d0887"
             ],
             [
              0.1111111111111111,
              "#46039f"
             ],
             [
              0.2222222222222222,
              "#7201a8"
             ],
             [
              0.3333333333333333,
              "#9c179e"
             ],
             [
              0.4444444444444444,
              "#bd3786"
             ],
             [
              0.5555555555555556,
              "#d8576b"
             ],
             [
              0.6666666666666666,
              "#ed7953"
             ],
             [
              0.7777777777777778,
              "#fb9f3a"
             ],
             [
              0.8888888888888888,
              "#fdca26"
             ],
             [
              1,
              "#f0f921"
             ]
            ],
            "type": "contour"
           }
          ],
          "contourcarpet": [
           {
            "colorbar": {
             "outlinewidth": 0,
             "ticks": ""
            },
            "type": "contourcarpet"
           }
          ],
          "heatmap": [
           {
            "colorbar": {
             "outlinewidth": 0,
             "ticks": ""
            },
            "colorscale": [
             [
              0,
              "#0d0887"
             ],
             [
              0.1111111111111111,
              "#46039f"
             ],
             [
              0.2222222222222222,
              "#7201a8"
             ],
             [
              0.3333333333333333,
              "#9c179e"
             ],
             [
              0.4444444444444444,
              "#bd3786"
             ],
             [
              0.5555555555555556,
              "#d8576b"
             ],
             [
              0.6666666666666666,
              "#ed7953"
             ],
             [
              0.7777777777777778,
              "#fb9f3a"
             ],
             [
              0.8888888888888888,
              "#fdca26"
             ],
             [
              1,
              "#f0f921"
             ]
            ],
            "type": "heatmap"
           }
          ],
          "heatmapgl": [
           {
            "colorbar": {
             "outlinewidth": 0,
             "ticks": ""
            },
            "colorscale": [
             [
              0,
              "#0d0887"
             ],
             [
              0.1111111111111111,
              "#46039f"
             ],
             [
              0.2222222222222222,
              "#7201a8"
             ],
             [
              0.3333333333333333,
              "#9c179e"
             ],
             [
              0.4444444444444444,
              "#bd3786"
             ],
             [
              0.5555555555555556,
              "#d8576b"
             ],
             [
              0.6666666666666666,
              "#ed7953"
             ],
             [
              0.7777777777777778,
              "#fb9f3a"
             ],
             [
              0.8888888888888888,
              "#fdca26"
             ],
             [
              1,
              "#f0f921"
             ]
            ],
            "type": "heatmapgl"
           }
          ],
          "histogram": [
           {
            "marker": {
             "colorbar": {
              "outlinewidth": 0,
              "ticks": ""
             }
            },
            "type": "histogram"
           }
          ],
          "histogram2d": [
           {
            "colorbar": {
             "outlinewidth": 0,
             "ticks": ""
            },
            "colorscale": [
             [
              0,
              "#0d0887"
             ],
             [
              0.1111111111111111,
              "#46039f"
             ],
             [
              0.2222222222222222,
              "#7201a8"
             ],
             [
              0.3333333333333333,
              "#9c179e"
             ],
             [
              0.4444444444444444,
              "#bd3786"
             ],
             [
              0.5555555555555556,
              "#d8576b"
             ],
             [
              0.6666666666666666,
              "#ed7953"
             ],
             [
              0.7777777777777778,
              "#fb9f3a"
             ],
             [
              0.8888888888888888,
              "#fdca26"
             ],
             [
              1,
              "#f0f921"
             ]
            ],
            "type": "histogram2d"
           }
          ],
          "histogram2dcontour": [
           {
            "colorbar": {
             "outlinewidth": 0,
             "ticks": ""
            },
            "colorscale": [
             [
              0,
              "#0d0887"
             ],
             [
              0.1111111111111111,
              "#46039f"
             ],
             [
              0.2222222222222222,
              "#7201a8"
             ],
             [
              0.3333333333333333,
              "#9c179e"
             ],
             [
              0.4444444444444444,
              "#bd3786"
             ],
             [
              0.5555555555555556,
              "#d8576b"
             ],
             [
              0.6666666666666666,
              "#ed7953"
             ],
             [
              0.7777777777777778,
              "#fb9f3a"
             ],
             [
              0.8888888888888888,
              "#fdca26"
             ],
             [
              1,
              "#f0f921"
             ]
            ],
            "type": "histogram2dcontour"
           }
          ],
          "mesh3d": [
           {
            "colorbar": {
             "outlinewidth": 0,
             "ticks": ""
            },
            "type": "mesh3d"
           }
          ],
          "parcoords": [
           {
            "line": {
             "colorbar": {
              "outlinewidth": 0,
              "ticks": ""
             }
            },
            "type": "parcoords"
           }
          ],
          "pie": [
           {
            "automargin": true,
            "type": "pie"
           }
          ],
          "scatter": [
           {
            "marker": {
             "colorbar": {
              "outlinewidth": 0,
              "ticks": ""
             }
            },
            "type": "scatter"
           }
          ],
          "scatter3d": [
           {
            "line": {
             "colorbar": {
              "outlinewidth": 0,
              "ticks": ""
             }
            },
            "marker": {
             "colorbar": {
              "outlinewidth": 0,
              "ticks": ""
             }
            },
            "type": "scatter3d"
           }
          ],
          "scattercarpet": [
           {
            "marker": {
             "colorbar": {
              "outlinewidth": 0,
              "ticks": ""
             }
            },
            "type": "scattercarpet"
           }
          ],
          "scattergeo": [
           {
            "marker": {
             "colorbar": {
              "outlinewidth": 0,
              "ticks": ""
             }
            },
            "type": "scattergeo"
           }
          ],
          "scattergl": [
           {
            "marker": {
             "colorbar": {
              "outlinewidth": 0,
              "ticks": ""
             }
            },
            "type": "scattergl"
           }
          ],
          "scattermapbox": [
           {
            "marker": {
             "colorbar": {
              "outlinewidth": 0,
              "ticks": ""
             }
            },
            "type": "scattermapbox"
           }
          ],
          "scatterpolar": [
           {
            "marker": {
             "colorbar": {
              "outlinewidth": 0,
              "ticks": ""
             }
            },
            "type": "scatterpolar"
           }
          ],
          "scatterpolargl": [
           {
            "marker": {
             "colorbar": {
              "outlinewidth": 0,
              "ticks": ""
             }
            },
            "type": "scatterpolargl"
           }
          ],
          "scatterternary": [
           {
            "marker": {
             "colorbar": {
              "outlinewidth": 0,
              "ticks": ""
             }
            },
            "type": "scatterternary"
           }
          ],
          "surface": [
           {
            "colorbar": {
             "outlinewidth": 0,
             "ticks": ""
            },
            "colorscale": [
             [
              0,
              "#0d0887"
             ],
             [
              0.1111111111111111,
              "#46039f"
             ],
             [
              0.2222222222222222,
              "#7201a8"
             ],
             [
              0.3333333333333333,
              "#9c179e"
             ],
             [
              0.4444444444444444,
              "#bd3786"
             ],
             [
              0.5555555555555556,
              "#d8576b"
             ],
             [
              0.6666666666666666,
              "#ed7953"
             ],
             [
              0.7777777777777778,
              "#fb9f3a"
             ],
             [
              0.8888888888888888,
              "#fdca26"
             ],
             [
              1,
              "#f0f921"
             ]
            ],
            "type": "surface"
           }
          ],
          "table": [
           {
            "cells": {
             "fill": {
              "color": "#EBF0F8"
             },
             "line": {
              "color": "white"
             }
            },
            "header": {
             "fill": {
              "color": "#C8D4E3"
             },
             "line": {
              "color": "white"
             }
            },
            "type": "table"
           }
          ]
         },
         "layout": {
          "annotationdefaults": {
           "arrowcolor": "#2a3f5f",
           "arrowhead": 0,
           "arrowwidth": 1
          },
          "coloraxis": {
           "colorbar": {
            "outlinewidth": 0,
            "ticks": ""
           }
          },
          "colorscale": {
           "diverging": [
            [
             0,
             "#8e0152"
            ],
            [
             0.1,
             "#c51b7d"
            ],
            [
             0.2,
             "#de77ae"
            ],
            [
             0.3,
             "#f1b6da"
            ],
            [
             0.4,
             "#fde0ef"
            ],
            [
             0.5,
             "#f7f7f7"
            ],
            [
             0.6,
             "#e6f5d0"
            ],
            [
             0.7,
             "#b8e186"
            ],
            [
             0.8,
             "#7fbc41"
            ],
            [
             0.9,
             "#4d9221"
            ],
            [
             1,
             "#276419"
            ]
           ],
           "sequential": [
            [
             0,
             "#0d0887"
            ],
            [
             0.1111111111111111,
             "#46039f"
            ],
            [
             0.2222222222222222,
             "#7201a8"
            ],
            [
             0.3333333333333333,
             "#9c179e"
            ],
            [
             0.4444444444444444,
             "#bd3786"
            ],
            [
             0.5555555555555556,
             "#d8576b"
            ],
            [
             0.6666666666666666,
             "#ed7953"
            ],
            [
             0.7777777777777778,
             "#fb9f3a"
            ],
            [
             0.8888888888888888,
             "#fdca26"
            ],
            [
             1,
             "#f0f921"
            ]
           ],
           "sequentialminus": [
            [
             0,
             "#0d0887"
            ],
            [
             0.1111111111111111,
             "#46039f"
            ],
            [
             0.2222222222222222,
             "#7201a8"
            ],
            [
             0.3333333333333333,
             "#9c179e"
            ],
            [
             0.4444444444444444,
             "#bd3786"
            ],
            [
             0.5555555555555556,
             "#d8576b"
            ],
            [
             0.6666666666666666,
             "#ed7953"
            ],
            [
             0.7777777777777778,
             "#fb9f3a"
            ],
            [
             0.8888888888888888,
             "#fdca26"
            ],
            [
             1,
             "#f0f921"
            ]
           ]
          },
          "colorway": [
           "#636efa",
           "#EF553B",
           "#00cc96",
           "#ab63fa",
           "#FFA15A",
           "#19d3f3",
           "#FF6692",
           "#B6E880",
           "#FF97FF",
           "#FECB52"
          ],
          "font": {
           "color": "#2a3f5f"
          },
          "geo": {
           "bgcolor": "white",
           "lakecolor": "white",
           "landcolor": "#E5ECF6",
           "showlakes": true,
           "showland": true,
           "subunitcolor": "white"
          },
          "hoverlabel": {
           "align": "left"
          },
          "hovermode": "closest",
          "mapbox": {
           "style": "light"
          },
          "paper_bgcolor": "white",
          "plot_bgcolor": "#E5ECF6",
          "polar": {
           "angularaxis": {
            "gridcolor": "white",
            "linecolor": "white",
            "ticks": ""
           },
           "bgcolor": "#E5ECF6",
           "radialaxis": {
            "gridcolor": "white",
            "linecolor": "white",
            "ticks": ""
           }
          },
          "scene": {
           "xaxis": {
            "backgroundcolor": "#E5ECF6",
            "gridcolor": "white",
            "gridwidth": 2,
            "linecolor": "white",
            "showbackground": true,
            "ticks": "",
            "zerolinecolor": "white"
           },
           "yaxis": {
            "backgroundcolor": "#E5ECF6",
            "gridcolor": "white",
            "gridwidth": 2,
            "linecolor": "white",
            "showbackground": true,
            "ticks": "",
            "zerolinecolor": "white"
           },
           "zaxis": {
            "backgroundcolor": "#E5ECF6",
            "gridcolor": "white",
            "gridwidth": 2,
            "linecolor": "white",
            "showbackground": true,
            "ticks": "",
            "zerolinecolor": "white"
           }
          },
          "shapedefaults": {
           "line": {
            "color": "#2a3f5f"
           }
          },
          "ternary": {
           "aaxis": {
            "gridcolor": "white",
            "linecolor": "white",
            "ticks": ""
           },
           "baxis": {
            "gridcolor": "white",
            "linecolor": "white",
            "ticks": ""
           },
           "bgcolor": "#E5ECF6",
           "caxis": {
            "gridcolor": "white",
            "linecolor": "white",
            "ticks": ""
           }
          },
          "title": {
           "x": 0.05
          },
          "xaxis": {
           "automargin": true,
           "gridcolor": "white",
           "linecolor": "white",
           "ticks": "",
           "title": {
            "standoff": 15
           },
           "zerolinecolor": "white",
           "zerolinewidth": 2
          },
          "yaxis": {
           "automargin": true,
           "gridcolor": "white",
           "linecolor": "white",
           "ticks": "",
           "title": {
            "standoff": 15
           },
           "zerolinecolor": "white",
           "zerolinewidth": 2
          }
         }
        },
        "xaxis": {
         "anchor": "y",
         "domain": [
          0,
          1
         ],
         "title": {
          "text": "date"
         }
        },
        "yaxis": {
         "anchor": "x",
         "domain": [
          0,
          1
         ],
         "title": {
          "text": "delta_percent"
         }
        }
       }
      },
      "text/html": [
       "<div>                            <div id=\"35995b16-a24d-4334-a902-145ce3925590\" class=\"plotly-graph-div\" style=\"height:525px; width:100%;\"></div>            <script type=\"text/javascript\">                require([\"plotly\"], function(Plotly) {                    window.PLOTLYENV=window.PLOTLYENV || {};                                    if (document.getElementById(\"35995b16-a24d-4334-a902-145ce3925590\")) {                    Plotly.newPlot(                        \"35995b16-a24d-4334-a902-145ce3925590\",                        [{\"hovertemplate\": \"symbol=DOGEUSD<br>date=%{x}<br>delta_percent=%{y}<extra></extra>\", \"legendgroup\": \"DOGEUSD\", \"line\": {\"color\": \"#636efa\", \"dash\": \"solid\"}, \"mode\": \"lines\", \"name\": \"DOGEUSD\", \"orientation\": \"v\", \"showlegend\": true, \"type\": \"scatter\", \"x\": [\"2021-02-20T15:32:33-05:00\", \"2021-02-20T15:32:34-05:00\", \"2021-02-20T15:32:35-05:00\", \"2021-02-20T15:32:36-05:00\", \"2021-02-20T15:32:37-05:00\", \"2021-02-20T15:32:38-05:00\", \"2021-02-20T15:32:39-05:00\", \"2021-02-20T15:32:40-05:00\", \"2021-02-20T15:32:41-05:00\", \"2021-02-20T15:32:42-05:00\", \"2021-02-20T15:32:43-05:00\", \"2021-02-20T15:32:45-05:00\", \"2021-02-20T15:32:46-05:00\", \"2021-02-20T15:32:47-05:00\", \"2021-02-20T15:32:48-05:00\", \"2021-02-20T15:32:49-05:00\", \"2021-02-20T15:32:50-05:00\", \"2021-02-20T15:32:52-05:00\", \"2021-02-20T15:32:53-05:00\", \"2021-02-20T15:32:54-05:00\", \"2021-02-20T15:32:55-05:00\", \"2021-02-20T15:32:56-05:00\", \"2021-02-20T15:32:57-05:00\", \"2021-02-20T15:32:58-05:00\", \"2021-02-20T15:32:59-05:00\", \"2021-02-20T15:33:00-05:00\", \"2021-02-20T15:33:01-05:00\", \"2021-02-20T15:33:02-05:00\", \"2021-02-20T15:33:03-05:00\", \"2021-02-20T15:33:04-05:00\", \"2021-02-20T15:33:05-05:00\", \"2021-02-20T15:33:06-05:00\", \"2021-02-20T15:33:08-05:00\", \"2021-02-20T15:33:09-05:00\", \"2021-02-20T15:33:10-05:00\"], \"xaxis\": \"x\", \"y\": [-0.027010966452384055, -0.01800731096826165, -0.03601462193650646, -0.0018007310968413172, -0.0018007310968413172, -0.0018007310968413172, -0.0018007310968413172, -0.016206579871437168, 0.0036014621936489625, 0.027010966452367214, 0.0054021932904734435, 0.012605117677771371, 0.01620657987142033, 0.023409504258718256, -0.057623395098417074, -0.05942412619524155, -0.039616084130172265, -0.039616084130172265, -0.01800731096826165, -0.021608773161910608, -0.01800731096826165, -0.01800731096826165, -0.014405848774612684, -0.012605117677788205, -0.01800731096826165, 0.007202924387297925, 0.007202924387297925, 0.007202924387297925, 0.028811697549208537, 0.028811697549208537, 0.027010966452367214, 0.027010966452367214, 0.0, -0.04141681522699674, -0.04141681522699674], \"yaxis\": \"y\"}],                        {\"legend\": {\"title\": {\"text\": \"symbol\"}, \"tracegroupgap\": 0}, \"margin\": {\"t\": 60}, \"template\": {\"data\": {\"bar\": [{\"error_x\": {\"color\": \"#2a3f5f\"}, \"error_y\": {\"color\": \"#2a3f5f\"}, \"marker\": {\"line\": {\"color\": \"#E5ECF6\", \"width\": 0.5}}, \"type\": \"bar\"}], \"barpolar\": [{\"marker\": {\"line\": {\"color\": \"#E5ECF6\", \"width\": 0.5}}, \"type\": \"barpolar\"}], \"carpet\": [{\"aaxis\": {\"endlinecolor\": \"#2a3f5f\", \"gridcolor\": \"white\", \"linecolor\": \"white\", \"minorgridcolor\": \"white\", \"startlinecolor\": \"#2a3f5f\"}, \"baxis\": {\"endlinecolor\": \"#2a3f5f\", \"gridcolor\": \"white\", \"linecolor\": \"white\", \"minorgridcolor\": \"white\", \"startlinecolor\": \"#2a3f5f\"}, \"type\": \"carpet\"}], \"choropleth\": [{\"colorbar\": {\"outlinewidth\": 0, \"ticks\": \"\"}, \"type\": \"choropleth\"}], \"contour\": [{\"colorbar\": {\"outlinewidth\": 0, \"ticks\": \"\"}, \"colorscale\": [[0.0, \"#0d0887\"], [0.1111111111111111, \"#46039f\"], [0.2222222222222222, \"#7201a8\"], [0.3333333333333333, \"#9c179e\"], [0.4444444444444444, \"#bd3786\"], [0.5555555555555556, \"#d8576b\"], [0.6666666666666666, \"#ed7953\"], [0.7777777777777778, \"#fb9f3a\"], [0.8888888888888888, \"#fdca26\"], [1.0, \"#f0f921\"]], \"type\": \"contour\"}], \"contourcarpet\": [{\"colorbar\": {\"outlinewidth\": 0, \"ticks\": \"\"}, \"type\": \"contourcarpet\"}], \"heatmap\": [{\"colorbar\": {\"outlinewidth\": 0, \"ticks\": \"\"}, \"colorscale\": [[0.0, \"#0d0887\"], [0.1111111111111111, \"#46039f\"], [0.2222222222222222, \"#7201a8\"], [0.3333333333333333, \"#9c179e\"], [0.4444444444444444, \"#bd3786\"], [0.5555555555555556, \"#d8576b\"], [0.6666666666666666, \"#ed7953\"], [0.7777777777777778, \"#fb9f3a\"], [0.8888888888888888, \"#fdca26\"], [1.0, \"#f0f921\"]], \"type\": \"heatmap\"}], \"heatmapgl\": [{\"colorbar\": {\"outlinewidth\": 0, \"ticks\": \"\"}, \"colorscale\": [[0.0, \"#0d0887\"], [0.1111111111111111, \"#46039f\"], [0.2222222222222222, \"#7201a8\"], [0.3333333333333333, \"#9c179e\"], [0.4444444444444444, \"#bd3786\"], [0.5555555555555556, \"#d8576b\"], [0.6666666666666666, \"#ed7953\"], [0.7777777777777778, \"#fb9f3a\"], [0.8888888888888888, \"#fdca26\"], [1.0, \"#f0f921\"]], \"type\": \"heatmapgl\"}], \"histogram\": [{\"marker\": {\"colorbar\": {\"outlinewidth\": 0, \"ticks\": \"\"}}, \"type\": \"histogram\"}], \"histogram2d\": [{\"colorbar\": {\"outlinewidth\": 0, \"ticks\": \"\"}, \"colorscale\": [[0.0, \"#0d0887\"], [0.1111111111111111, \"#46039f\"], [0.2222222222222222, \"#7201a8\"], [0.3333333333333333, \"#9c179e\"], [0.4444444444444444, \"#bd3786\"], [0.5555555555555556, \"#d8576b\"], [0.6666666666666666, \"#ed7953\"], [0.7777777777777778, \"#fb9f3a\"], [0.8888888888888888, \"#fdca26\"], [1.0, \"#f0f921\"]], \"type\": \"histogram2d\"}], \"histogram2dcontour\": [{\"colorbar\": {\"outlinewidth\": 0, \"ticks\": \"\"}, \"colorscale\": [[0.0, \"#0d0887\"], [0.1111111111111111, \"#46039f\"], [0.2222222222222222, \"#7201a8\"], [0.3333333333333333, \"#9c179e\"], [0.4444444444444444, \"#bd3786\"], [0.5555555555555556, \"#d8576b\"], [0.6666666666666666, \"#ed7953\"], [0.7777777777777778, \"#fb9f3a\"], [0.8888888888888888, \"#fdca26\"], [1.0, \"#f0f921\"]], \"type\": \"histogram2dcontour\"}], \"mesh3d\": [{\"colorbar\": {\"outlinewidth\": 0, \"ticks\": \"\"}, \"type\": \"mesh3d\"}], \"parcoords\": [{\"line\": {\"colorbar\": {\"outlinewidth\": 0, \"ticks\": \"\"}}, \"type\": \"parcoords\"}], \"pie\": [{\"automargin\": true, \"type\": \"pie\"}], \"scatter\": [{\"marker\": {\"colorbar\": {\"outlinewidth\": 0, \"ticks\": \"\"}}, \"type\": \"scatter\"}], \"scatter3d\": [{\"line\": {\"colorbar\": {\"outlinewidth\": 0, \"ticks\": \"\"}}, \"marker\": {\"colorbar\": {\"outlinewidth\": 0, \"ticks\": \"\"}}, \"type\": \"scatter3d\"}], \"scattercarpet\": [{\"marker\": {\"colorbar\": {\"outlinewidth\": 0, \"ticks\": \"\"}}, \"type\": \"scattercarpet\"}], \"scattergeo\": [{\"marker\": {\"colorbar\": {\"outlinewidth\": 0, \"ticks\": \"\"}}, \"type\": \"scattergeo\"}], \"scattergl\": [{\"marker\": {\"colorbar\": {\"outlinewidth\": 0, \"ticks\": \"\"}}, \"type\": \"scattergl\"}], \"scattermapbox\": [{\"marker\": {\"colorbar\": {\"outlinewidth\": 0, \"ticks\": \"\"}}, \"type\": \"scattermapbox\"}], \"scatterpolar\": [{\"marker\": {\"colorbar\": {\"outlinewidth\": 0, \"ticks\": \"\"}}, \"type\": \"scatterpolar\"}], \"scatterpolargl\": [{\"marker\": {\"colorbar\": {\"outlinewidth\": 0, \"ticks\": \"\"}}, \"type\": \"scatterpolargl\"}], \"scatterternary\": [{\"marker\": {\"colorbar\": {\"outlinewidth\": 0, \"ticks\": \"\"}}, \"type\": \"scatterternary\"}], \"surface\": [{\"colorbar\": {\"outlinewidth\": 0, \"ticks\": \"\"}, \"colorscale\": [[0.0, \"#0d0887\"], [0.1111111111111111, \"#46039f\"], [0.2222222222222222, \"#7201a8\"], [0.3333333333333333, \"#9c179e\"], [0.4444444444444444, \"#bd3786\"], [0.5555555555555556, \"#d8576b\"], [0.6666666666666666, \"#ed7953\"], [0.7777777777777778, \"#fb9f3a\"], [0.8888888888888888, \"#fdca26\"], [1.0, \"#f0f921\"]], \"type\": \"surface\"}], \"table\": [{\"cells\": {\"fill\": {\"color\": \"#EBF0F8\"}, \"line\": {\"color\": \"white\"}}, \"header\": {\"fill\": {\"color\": \"#C8D4E3\"}, \"line\": {\"color\": \"white\"}}, \"type\": \"table\"}]}, \"layout\": {\"annotationdefaults\": {\"arrowcolor\": \"#2a3f5f\", \"arrowhead\": 0, \"arrowwidth\": 1}, \"coloraxis\": {\"colorbar\": {\"outlinewidth\": 0, \"ticks\": \"\"}}, \"colorscale\": {\"diverging\": [[0, \"#8e0152\"], [0.1, \"#c51b7d\"], [0.2, \"#de77ae\"], [0.3, \"#f1b6da\"], [0.4, \"#fde0ef\"], [0.5, \"#f7f7f7\"], [0.6, \"#e6f5d0\"], [0.7, \"#b8e186\"], [0.8, \"#7fbc41\"], [0.9, \"#4d9221\"], [1, \"#276419\"]], \"sequential\": [[0.0, \"#0d0887\"], [0.1111111111111111, \"#46039f\"], [0.2222222222222222, \"#7201a8\"], [0.3333333333333333, \"#9c179e\"], [0.4444444444444444, \"#bd3786\"], [0.5555555555555556, \"#d8576b\"], [0.6666666666666666, \"#ed7953\"], [0.7777777777777778, \"#fb9f3a\"], [0.8888888888888888, \"#fdca26\"], [1.0, \"#f0f921\"]], \"sequentialminus\": [[0.0, \"#0d0887\"], [0.1111111111111111, \"#46039f\"], [0.2222222222222222, \"#7201a8\"], [0.3333333333333333, \"#9c179e\"], [0.4444444444444444, \"#bd3786\"], [0.5555555555555556, \"#d8576b\"], [0.6666666666666666, \"#ed7953\"], [0.7777777777777778, \"#fb9f3a\"], [0.8888888888888888, \"#fdca26\"], [1.0, \"#f0f921\"]]}, \"colorway\": [\"#636efa\", \"#EF553B\", \"#00cc96\", \"#ab63fa\", \"#FFA15A\", \"#19d3f3\", \"#FF6692\", \"#B6E880\", \"#FF97FF\", \"#FECB52\"], \"font\": {\"color\": \"#2a3f5f\"}, \"geo\": {\"bgcolor\": \"white\", \"lakecolor\": \"white\", \"landcolor\": \"#E5ECF6\", \"showlakes\": true, \"showland\": true, \"subunitcolor\": \"white\"}, \"hoverlabel\": {\"align\": \"left\"}, \"hovermode\": \"closest\", \"mapbox\": {\"style\": \"light\"}, \"paper_bgcolor\": \"white\", \"plot_bgcolor\": \"#E5ECF6\", \"polar\": {\"angularaxis\": {\"gridcolor\": \"white\", \"linecolor\": \"white\", \"ticks\": \"\"}, \"bgcolor\": \"#E5ECF6\", \"radialaxis\": {\"gridcolor\": \"white\", \"linecolor\": \"white\", \"ticks\": \"\"}}, \"scene\": {\"xaxis\": {\"backgroundcolor\": \"#E5ECF6\", \"gridcolor\": \"white\", \"gridwidth\": 2, \"linecolor\": \"white\", \"showbackground\": true, \"ticks\": \"\", \"zerolinecolor\": \"white\"}, \"yaxis\": {\"backgroundcolor\": \"#E5ECF6\", \"gridcolor\": \"white\", \"gridwidth\": 2, \"linecolor\": \"white\", \"showbackground\": true, \"ticks\": \"\", \"zerolinecolor\": \"white\"}, \"zaxis\": {\"backgroundcolor\": \"#E5ECF6\", \"gridcolor\": \"white\", \"gridwidth\": 2, \"linecolor\": \"white\", \"showbackground\": true, \"ticks\": \"\", \"zerolinecolor\": \"white\"}}, \"shapedefaults\": {\"line\": {\"color\": \"#2a3f5f\"}}, \"ternary\": {\"aaxis\": {\"gridcolor\": \"white\", \"linecolor\": \"white\", \"ticks\": \"\"}, \"baxis\": {\"gridcolor\": \"white\", \"linecolor\": \"white\", \"ticks\": \"\"}, \"bgcolor\": \"#E5ECF6\", \"caxis\": {\"gridcolor\": \"white\", \"linecolor\": \"white\", \"ticks\": \"\"}}, \"title\": {\"x\": 0.05}, \"xaxis\": {\"automargin\": true, \"gridcolor\": \"white\", \"linecolor\": \"white\", \"ticks\": \"\", \"title\": {\"standoff\": 15}, \"zerolinecolor\": \"white\", \"zerolinewidth\": 2}, \"yaxis\": {\"automargin\": true, \"gridcolor\": \"white\", \"linecolor\": \"white\", \"ticks\": \"\", \"title\": {\"standoff\": 15}, \"zerolinecolor\": \"white\", \"zerolinewidth\": 2}}}, \"xaxis\": {\"anchor\": \"y\", \"domain\": [0.0, 1.0], \"title\": {\"text\": \"date\"}}, \"yaxis\": {\"anchor\": \"x\", \"domain\": [0.0, 1.0], \"title\": {\"text\": \"delta_percent\"}}},                        {\"responsive\": true}                    ).then(function(){\n",
       "                            \n",
       "var gd = document.getElementById('35995b16-a24d-4334-a902-145ce3925590');\n",
       "var x = new MutationObserver(function (mutations, observer) {{\n",
       "        var display = window.getComputedStyle(gd).display;\n",
       "        if (!display || display === 'none') {{\n",
       "            console.log([gd, 'removed!']);\n",
       "            Plotly.purge(gd);\n",
       "            observer.disconnect();\n",
       "        }}\n",
       "}});\n",
       "\n",
       "// Listen for the removal of the full notebook cells\n",
       "var notebookContainer = gd.closest('#notebook-container');\n",
       "if (notebookContainer) {{\n",
       "    x.observe(notebookContainer, {childList: true});\n",
       "}}\n",
       "\n",
       "// Listen for the clearing of the current output cell\n",
       "var outputEl = gd.closest('.output');\n",
       "if (outputEl) {{\n",
       "    x.observe(outputEl, {childList: true});\n",
       "}}\n",
       "\n",
       "                        })                };                });            </script>        </div>"
      ]
     },
     "metadata": {},
     "output_type": "display_data"
    },
    {
     "data": {
      "text/html": [
       "<div>\n",
       "<style scoped>\n",
       "    .dataframe tbody tr th:only-of-type {\n",
       "        vertical-align: middle;\n",
       "    }\n",
       "\n",
       "    .dataframe tbody tr th {\n",
       "        vertical-align: top;\n",
       "    }\n",
       "\n",
       "    .dataframe thead th {\n",
       "        text-align: right;\n",
       "    }\n",
       "</style>\n",
       "<table border=\"1\" class=\"dataframe\">\n",
       "  <thead>\n",
       "    <tr style=\"text-align: right;\">\n",
       "      <th></th>\n",
       "      <th>ask_price</th>\n",
       "      <th>bid_price</th>\n",
       "      <th>mark_price</th>\n",
       "      <th>high_price</th>\n",
       "      <th>low_price</th>\n",
       "      <th>open_price</th>\n",
       "      <th>symbol</th>\n",
       "      <th>id</th>\n",
       "      <th>volume</th>\n",
       "      <th>delta</th>\n",
       "      <th>delta_percent</th>\n",
       "      <th>window_delta</th>\n",
       "      <th>window_delta_percent</th>\n",
       "      <th>date</th>\n",
       "    </tr>\n",
       "  </thead>\n",
       "  <tbody>\n",
       "    <tr>\n",
       "      <th>0</th>\n",
       "      <td>0.055580</td>\n",
       "      <td>0.055518</td>\n",
       "      <td>0.055549</td>\n",
       "      <td>0.061013</td>\n",
       "      <td>0.053219</td>\n",
       "      <td>0.05358</td>\n",
       "      <td>DOGEUSD</td>\n",
       "      <td>1ef78e1b-049b-4f12-90e5-555dcf2fe204</td>\n",
       "      <td>0.0</td>\n",
       "      <td>-0.001425</td>\n",
       "      <td>-0.027011</td>\n",
       "      <td>-0.001425</td>\n",
       "      <td>-0.000270</td>\n",
       "      <td>2021-02-20T15:32:33-05:00</td>\n",
       "    </tr>\n",
       "    <tr>\n",
       "      <th>1</th>\n",
       "      <td>0.055584</td>\n",
       "      <td>0.055523</td>\n",
       "      <td>0.055553</td>\n",
       "      <td>0.061013</td>\n",
       "      <td>0.053219</td>\n",
       "      <td>0.05358</td>\n",
       "      <td>DOGEUSD</td>\n",
       "      <td>1ef78e1b-049b-4f12-90e5-555dcf2fe204</td>\n",
       "      <td>0.0</td>\n",
       "      <td>-0.000950</td>\n",
       "      <td>-0.018007</td>\n",
       "      <td>-0.000950</td>\n",
       "      <td>-0.000180</td>\n",
       "      <td>2021-02-20T15:32:34-05:00</td>\n",
       "    </tr>\n",
       "    <tr>\n",
       "      <th>2</th>\n",
       "      <td>0.055562</td>\n",
       "      <td>0.055513</td>\n",
       "      <td>0.055537</td>\n",
       "      <td>0.061013</td>\n",
       "      <td>0.053219</td>\n",
       "      <td>0.05358</td>\n",
       "      <td>DOGEUSD</td>\n",
       "      <td>1ef78e1b-049b-4f12-90e5-555dcf2fe204</td>\n",
       "      <td>0.0</td>\n",
       "      <td>-0.001900</td>\n",
       "      <td>-0.036015</td>\n",
       "      <td>-0.001900</td>\n",
       "      <td>-0.000360</td>\n",
       "      <td>2021-02-20T15:32:35-05:00</td>\n",
       "    </tr>\n",
       "    <tr>\n",
       "      <th>3</th>\n",
       "      <td>0.055583</td>\n",
       "      <td>0.055532</td>\n",
       "      <td>0.055557</td>\n",
       "      <td>0.061013</td>\n",
       "      <td>0.053219</td>\n",
       "      <td>0.05358</td>\n",
       "      <td>DOGEUSD</td>\n",
       "      <td>1ef78e1b-049b-4f12-90e5-555dcf2fe204</td>\n",
       "      <td>0.0</td>\n",
       "      <td>-0.000095</td>\n",
       "      <td>-0.001801</td>\n",
       "      <td>-0.000095</td>\n",
       "      <td>-0.000018</td>\n",
       "      <td>2021-02-20T15:32:36-05:00</td>\n",
       "    </tr>\n",
       "    <tr>\n",
       "      <th>4</th>\n",
       "      <td>0.055587</td>\n",
       "      <td>0.055532</td>\n",
       "      <td>0.055559</td>\n",
       "      <td>0.061013</td>\n",
       "      <td>0.053219</td>\n",
       "      <td>0.05358</td>\n",
       "      <td>DOGEUSD</td>\n",
       "      <td>1ef78e1b-049b-4f12-90e5-555dcf2fe204</td>\n",
       "      <td>0.0</td>\n",
       "      <td>-0.000095</td>\n",
       "      <td>-0.001801</td>\n",
       "      <td>-0.000095</td>\n",
       "      <td>-0.000018</td>\n",
       "      <td>2021-02-20T15:32:37-05:00</td>\n",
       "    </tr>\n",
       "  </tbody>\n",
       "</table>\n",
       "</div>"
      ],
      "text/plain": [
       "   ask_price  bid_price  mark_price  high_price  low_price  open_price  \\\n",
       "0   0.055580   0.055518    0.055549    0.061013   0.053219     0.05358   \n",
       "1   0.055584   0.055523    0.055553    0.061013   0.053219     0.05358   \n",
       "2   0.055562   0.055513    0.055537    0.061013   0.053219     0.05358   \n",
       "3   0.055583   0.055532    0.055557    0.061013   0.053219     0.05358   \n",
       "4   0.055587   0.055532    0.055559    0.061013   0.053219     0.05358   \n",
       "\n",
       "    symbol                                    id  volume     delta  \\\n",
       "0  DOGEUSD  1ef78e1b-049b-4f12-90e5-555dcf2fe204     0.0 -0.001425   \n",
       "1  DOGEUSD  1ef78e1b-049b-4f12-90e5-555dcf2fe204     0.0 -0.000950   \n",
       "2  DOGEUSD  1ef78e1b-049b-4f12-90e5-555dcf2fe204     0.0 -0.001900   \n",
       "3  DOGEUSD  1ef78e1b-049b-4f12-90e5-555dcf2fe204     0.0 -0.000095   \n",
       "4  DOGEUSD  1ef78e1b-049b-4f12-90e5-555dcf2fe204     0.0 -0.000095   \n",
       "\n",
       "   delta_percent  window_delta  window_delta_percent  \\\n",
       "0      -0.027011     -0.001425             -0.000270   \n",
       "1      -0.018007     -0.000950             -0.000180   \n",
       "2      -0.036015     -0.001900             -0.000360   \n",
       "3      -0.001801     -0.000095             -0.000018   \n",
       "4      -0.001801     -0.000095             -0.000018   \n",
       "\n",
       "                        date  \n",
       "0  2021-02-20T15:32:33-05:00  \n",
       "1  2021-02-20T15:32:34-05:00  \n",
       "2  2021-02-20T15:32:35-05:00  \n",
       "3  2021-02-20T15:32:36-05:00  \n",
       "4  2021-02-20T15:32:37-05:00  "
      ]
     },
     "execution_count": 148,
     "metadata": {},
     "output_type": "execute_result"
    }
   ],
   "source": [
    "import plotly.express as px\n",
    "import plotly.graph_objects as go\n",
    "\n",
    "fig = px.line(df, \n",
    "              x=\"date\", \n",
    "              y=\"delta_percent\", \n",
    "              color=\"symbol\",\n",
    "              title='')\n",
    "fig.show()\n",
    "df.head()"
   ]
  },
  {
   "cell_type": "code",
   "execution_count": 149,
   "metadata": {},
   "outputs": [
    {
     "data": {
      "application/vnd.plotly.v1+json": {
       "config": {
        "plotlyServerURL": "https://plot.ly"
       },
       "data": [
        {
         "mode": "lines",
         "name": "delta_percent",
         "type": "scatter",
         "x": [
          "2021-02-20T15:32:33-05:00",
          "2021-02-20T15:32:34-05:00",
          "2021-02-20T15:32:35-05:00",
          "2021-02-20T15:32:36-05:00",
          "2021-02-20T15:32:37-05:00",
          "2021-02-20T15:32:38-05:00",
          "2021-02-20T15:32:39-05:00",
          "2021-02-20T15:32:40-05:00",
          "2021-02-20T15:32:41-05:00",
          "2021-02-20T15:32:42-05:00",
          "2021-02-20T15:32:43-05:00",
          "2021-02-20T15:32:45-05:00",
          "2021-02-20T15:32:46-05:00",
          "2021-02-20T15:32:47-05:00",
          "2021-02-20T15:32:48-05:00",
          "2021-02-20T15:32:49-05:00",
          "2021-02-20T15:32:50-05:00",
          "2021-02-20T15:32:52-05:00",
          "2021-02-20T15:32:53-05:00",
          "2021-02-20T15:32:54-05:00",
          "2021-02-20T15:32:55-05:00",
          "2021-02-20T15:32:56-05:00",
          "2021-02-20T15:32:57-05:00",
          "2021-02-20T15:32:58-05:00",
          "2021-02-20T15:32:59-05:00",
          "2021-02-20T15:33:00-05:00",
          "2021-02-20T15:33:01-05:00",
          "2021-02-20T15:33:02-05:00",
          "2021-02-20T15:33:03-05:00",
          "2021-02-20T15:33:04-05:00",
          "2021-02-20T15:33:05-05:00",
          "2021-02-20T15:33:06-05:00",
          "2021-02-20T15:33:08-05:00",
          "2021-02-20T15:33:09-05:00",
          "2021-02-20T15:33:10-05:00"
         ],
         "xaxis": "x",
         "y": [
          -0.027010966452384055,
          -0.01800731096826165,
          -0.03601462193650646,
          -0.0018007310968413172,
          -0.0018007310968413172,
          -0.0018007310968413172,
          -0.0018007310968413172,
          -0.016206579871437168,
          0.0036014621936489625,
          0.027010966452367214,
          0.0054021932904734435,
          0.012605117677771371,
          0.01620657987142033,
          0.023409504258718256,
          -0.057623395098417074,
          -0.05942412619524155,
          -0.039616084130172265,
          -0.039616084130172265,
          -0.01800731096826165,
          -0.021608773161910608,
          -0.01800731096826165,
          -0.01800731096826165,
          -0.014405848774612684,
          -0.012605117677788205,
          -0.01800731096826165,
          0.007202924387297925,
          0.007202924387297925,
          0.007202924387297925,
          0.028811697549208537,
          0.028811697549208537,
          0.027010966452367214,
          0.027010966452367214,
          0,
          -0.04141681522699674,
          -0.04141681522699674
         ],
         "yaxis": "y"
        },
        {
         "mode": "lines",
         "name": "window_delta_percent",
         "type": "scatter",
         "x": [
          "2021-02-20T15:32:33-05:00",
          "2021-02-20T15:32:34-05:00",
          "2021-02-20T15:32:35-05:00",
          "2021-02-20T15:32:36-05:00",
          "2021-02-20T15:32:37-05:00",
          "2021-02-20T15:32:38-05:00",
          "2021-02-20T15:32:39-05:00",
          "2021-02-20T15:32:40-05:00",
          "2021-02-20T15:32:41-05:00",
          "2021-02-20T15:32:42-05:00",
          "2021-02-20T15:32:43-05:00",
          "2021-02-20T15:32:45-05:00",
          "2021-02-20T15:32:46-05:00",
          "2021-02-20T15:32:47-05:00",
          "2021-02-20T15:32:48-05:00",
          "2021-02-20T15:32:49-05:00",
          "2021-02-20T15:32:50-05:00",
          "2021-02-20T15:32:52-05:00",
          "2021-02-20T15:32:53-05:00",
          "2021-02-20T15:32:54-05:00",
          "2021-02-20T15:32:55-05:00",
          "2021-02-20T15:32:56-05:00",
          "2021-02-20T15:32:57-05:00",
          "2021-02-20T15:32:58-05:00",
          "2021-02-20T15:32:59-05:00",
          "2021-02-20T15:33:00-05:00",
          "2021-02-20T15:33:01-05:00",
          "2021-02-20T15:33:02-05:00",
          "2021-02-20T15:33:03-05:00",
          "2021-02-20T15:33:04-05:00",
          "2021-02-20T15:33:05-05:00",
          "2021-02-20T15:33:06-05:00",
          "2021-02-20T15:33:08-05:00",
          "2021-02-20T15:33:09-05:00",
          "2021-02-20T15:33:10-05:00"
         ],
         "xaxis": "x",
         "y": [
          -0.00027010966452384056,
          -0.0001800731096826165,
          -0.0003601462193650646,
          -1.8007310968413172e-05,
          -1.8007310968413172e-05,
          -1.8007310968413172e-05,
          -1.8007310968413172e-05,
          -0.00016206579871437166,
          3.6014621936489625e-05,
          0.0002701096645236722,
          5.4021932904734444e-05,
          0.00012605117677771366,
          0.0001620657987142033,
          0.00023409504258718256,
          -0.0005762339509841707,
          -0.0005942412619524155,
          -0.0003961608413017226,
          -0.0003961608413017226,
          -0.0001800731096826165,
          -0.00021608773161910607,
          9.006088115561973e-05,
          0,
          0.00021616558283635312,
          -0.00010804581142399402,
          -0.00016206871713599105,
          9.003817618683004e-05,
          9.003817618683004e-05,
          0.00023413298753698148,
          0.0002520932745116215,
          1.80024483331333e-05,
          0.00021607605877258846,
          0.0001440403312926956,
          -0.00016203953764711126,
          -0.0006481114751737679,
          0.00016215924037397264
         ],
         "yaxis": "y2"
        }
       ],
       "layout": {
        "template": {
         "data": {
          "bar": [
           {
            "error_x": {
             "color": "#2a3f5f"
            },
            "error_y": {
             "color": "#2a3f5f"
            },
            "marker": {
             "line": {
              "color": "#E5ECF6",
              "width": 0.5
             }
            },
            "type": "bar"
           }
          ],
          "barpolar": [
           {
            "marker": {
             "line": {
              "color": "#E5ECF6",
              "width": 0.5
             }
            },
            "type": "barpolar"
           }
          ],
          "carpet": [
           {
            "aaxis": {
             "endlinecolor": "#2a3f5f",
             "gridcolor": "white",
             "linecolor": "white",
             "minorgridcolor": "white",
             "startlinecolor": "#2a3f5f"
            },
            "baxis": {
             "endlinecolor": "#2a3f5f",
             "gridcolor": "white",
             "linecolor": "white",
             "minorgridcolor": "white",
             "startlinecolor": "#2a3f5f"
            },
            "type": "carpet"
           }
          ],
          "choropleth": [
           {
            "colorbar": {
             "outlinewidth": 0,
             "ticks": ""
            },
            "type": "choropleth"
           }
          ],
          "contour": [
           {
            "colorbar": {
             "outlinewidth": 0,
             "ticks": ""
            },
            "colorscale": [
             [
              0,
              "#0d0887"
             ],
             [
              0.1111111111111111,
              "#46039f"
             ],
             [
              0.2222222222222222,
              "#7201a8"
             ],
             [
              0.3333333333333333,
              "#9c179e"
             ],
             [
              0.4444444444444444,
              "#bd3786"
             ],
             [
              0.5555555555555556,
              "#d8576b"
             ],
             [
              0.6666666666666666,
              "#ed7953"
             ],
             [
              0.7777777777777778,
              "#fb9f3a"
             ],
             [
              0.8888888888888888,
              "#fdca26"
             ],
             [
              1,
              "#f0f921"
             ]
            ],
            "type": "contour"
           }
          ],
          "contourcarpet": [
           {
            "colorbar": {
             "outlinewidth": 0,
             "ticks": ""
            },
            "type": "contourcarpet"
           }
          ],
          "heatmap": [
           {
            "colorbar": {
             "outlinewidth": 0,
             "ticks": ""
            },
            "colorscale": [
             [
              0,
              "#0d0887"
             ],
             [
              0.1111111111111111,
              "#46039f"
             ],
             [
              0.2222222222222222,
              "#7201a8"
             ],
             [
              0.3333333333333333,
              "#9c179e"
             ],
             [
              0.4444444444444444,
              "#bd3786"
             ],
             [
              0.5555555555555556,
              "#d8576b"
             ],
             [
              0.6666666666666666,
              "#ed7953"
             ],
             [
              0.7777777777777778,
              "#fb9f3a"
             ],
             [
              0.8888888888888888,
              "#fdca26"
             ],
             [
              1,
              "#f0f921"
             ]
            ],
            "type": "heatmap"
           }
          ],
          "heatmapgl": [
           {
            "colorbar": {
             "outlinewidth": 0,
             "ticks": ""
            },
            "colorscale": [
             [
              0,
              "#0d0887"
             ],
             [
              0.1111111111111111,
              "#46039f"
             ],
             [
              0.2222222222222222,
              "#7201a8"
             ],
             [
              0.3333333333333333,
              "#9c179e"
             ],
             [
              0.4444444444444444,
              "#bd3786"
             ],
             [
              0.5555555555555556,
              "#d8576b"
             ],
             [
              0.6666666666666666,
              "#ed7953"
             ],
             [
              0.7777777777777778,
              "#fb9f3a"
             ],
             [
              0.8888888888888888,
              "#fdca26"
             ],
             [
              1,
              "#f0f921"
             ]
            ],
            "type": "heatmapgl"
           }
          ],
          "histogram": [
           {
            "marker": {
             "colorbar": {
              "outlinewidth": 0,
              "ticks": ""
             }
            },
            "type": "histogram"
           }
          ],
          "histogram2d": [
           {
            "colorbar": {
             "outlinewidth": 0,
             "ticks": ""
            },
            "colorscale": [
             [
              0,
              "#0d0887"
             ],
             [
              0.1111111111111111,
              "#46039f"
             ],
             [
              0.2222222222222222,
              "#7201a8"
             ],
             [
              0.3333333333333333,
              "#9c179e"
             ],
             [
              0.4444444444444444,
              "#bd3786"
             ],
             [
              0.5555555555555556,
              "#d8576b"
             ],
             [
              0.6666666666666666,
              "#ed7953"
             ],
             [
              0.7777777777777778,
              "#fb9f3a"
             ],
             [
              0.8888888888888888,
              "#fdca26"
             ],
             [
              1,
              "#f0f921"
             ]
            ],
            "type": "histogram2d"
           }
          ],
          "histogram2dcontour": [
           {
            "colorbar": {
             "outlinewidth": 0,
             "ticks": ""
            },
            "colorscale": [
             [
              0,
              "#0d0887"
             ],
             [
              0.1111111111111111,
              "#46039f"
             ],
             [
              0.2222222222222222,
              "#7201a8"
             ],
             [
              0.3333333333333333,
              "#9c179e"
             ],
             [
              0.4444444444444444,
              "#bd3786"
             ],
             [
              0.5555555555555556,
              "#d8576b"
             ],
             [
              0.6666666666666666,
              "#ed7953"
             ],
             [
              0.7777777777777778,
              "#fb9f3a"
             ],
             [
              0.8888888888888888,
              "#fdca26"
             ],
             [
              1,
              "#f0f921"
             ]
            ],
            "type": "histogram2dcontour"
           }
          ],
          "mesh3d": [
           {
            "colorbar": {
             "outlinewidth": 0,
             "ticks": ""
            },
            "type": "mesh3d"
           }
          ],
          "parcoords": [
           {
            "line": {
             "colorbar": {
              "outlinewidth": 0,
              "ticks": ""
             }
            },
            "type": "parcoords"
           }
          ],
          "pie": [
           {
            "automargin": true,
            "type": "pie"
           }
          ],
          "scatter": [
           {
            "marker": {
             "colorbar": {
              "outlinewidth": 0,
              "ticks": ""
             }
            },
            "type": "scatter"
           }
          ],
          "scatter3d": [
           {
            "line": {
             "colorbar": {
              "outlinewidth": 0,
              "ticks": ""
             }
            },
            "marker": {
             "colorbar": {
              "outlinewidth": 0,
              "ticks": ""
             }
            },
            "type": "scatter3d"
           }
          ],
          "scattercarpet": [
           {
            "marker": {
             "colorbar": {
              "outlinewidth": 0,
              "ticks": ""
             }
            },
            "type": "scattercarpet"
           }
          ],
          "scattergeo": [
           {
            "marker": {
             "colorbar": {
              "outlinewidth": 0,
              "ticks": ""
             }
            },
            "type": "scattergeo"
           }
          ],
          "scattergl": [
           {
            "marker": {
             "colorbar": {
              "outlinewidth": 0,
              "ticks": ""
             }
            },
            "type": "scattergl"
           }
          ],
          "scattermapbox": [
           {
            "marker": {
             "colorbar": {
              "outlinewidth": 0,
              "ticks": ""
             }
            },
            "type": "scattermapbox"
           }
          ],
          "scatterpolar": [
           {
            "marker": {
             "colorbar": {
              "outlinewidth": 0,
              "ticks": ""
             }
            },
            "type": "scatterpolar"
           }
          ],
          "scatterpolargl": [
           {
            "marker": {
             "colorbar": {
              "outlinewidth": 0,
              "ticks": ""
             }
            },
            "type": "scatterpolargl"
           }
          ],
          "scatterternary": [
           {
            "marker": {
             "colorbar": {
              "outlinewidth": 0,
              "ticks": ""
             }
            },
            "type": "scatterternary"
           }
          ],
          "surface": [
           {
            "colorbar": {
             "outlinewidth": 0,
             "ticks": ""
            },
            "colorscale": [
             [
              0,
              "#0d0887"
             ],
             [
              0.1111111111111111,
              "#46039f"
             ],
             [
              0.2222222222222222,
              "#7201a8"
             ],
             [
              0.3333333333333333,
              "#9c179e"
             ],
             [
              0.4444444444444444,
              "#bd3786"
             ],
             [
              0.5555555555555556,
              "#d8576b"
             ],
             [
              0.6666666666666666,
              "#ed7953"
             ],
             [
              0.7777777777777778,
              "#fb9f3a"
             ],
             [
              0.8888888888888888,
              "#fdca26"
             ],
             [
              1,
              "#f0f921"
             ]
            ],
            "type": "surface"
           }
          ],
          "table": [
           {
            "cells": {
             "fill": {
              "color": "#EBF0F8"
             },
             "line": {
              "color": "white"
             }
            },
            "header": {
             "fill": {
              "color": "#C8D4E3"
             },
             "line": {
              "color": "white"
             }
            },
            "type": "table"
           }
          ]
         },
         "layout": {
          "annotationdefaults": {
           "arrowcolor": "#2a3f5f",
           "arrowhead": 0,
           "arrowwidth": 1
          },
          "coloraxis": {
           "colorbar": {
            "outlinewidth": 0,
            "ticks": ""
           }
          },
          "colorscale": {
           "diverging": [
            [
             0,
             "#8e0152"
            ],
            [
             0.1,
             "#c51b7d"
            ],
            [
             0.2,
             "#de77ae"
            ],
            [
             0.3,
             "#f1b6da"
            ],
            [
             0.4,
             "#fde0ef"
            ],
            [
             0.5,
             "#f7f7f7"
            ],
            [
             0.6,
             "#e6f5d0"
            ],
            [
             0.7,
             "#b8e186"
            ],
            [
             0.8,
             "#7fbc41"
            ],
            [
             0.9,
             "#4d9221"
            ],
            [
             1,
             "#276419"
            ]
           ],
           "sequential": [
            [
             0,
             "#0d0887"
            ],
            [
             0.1111111111111111,
             "#46039f"
            ],
            [
             0.2222222222222222,
             "#7201a8"
            ],
            [
             0.3333333333333333,
             "#9c179e"
            ],
            [
             0.4444444444444444,
             "#bd3786"
            ],
            [
             0.5555555555555556,
             "#d8576b"
            ],
            [
             0.6666666666666666,
             "#ed7953"
            ],
            [
             0.7777777777777778,
             "#fb9f3a"
            ],
            [
             0.8888888888888888,
             "#fdca26"
            ],
            [
             1,
             "#f0f921"
            ]
           ],
           "sequentialminus": [
            [
             0,
             "#0d0887"
            ],
            [
             0.1111111111111111,
             "#46039f"
            ],
            [
             0.2222222222222222,
             "#7201a8"
            ],
            [
             0.3333333333333333,
             "#9c179e"
            ],
            [
             0.4444444444444444,
             "#bd3786"
            ],
            [
             0.5555555555555556,
             "#d8576b"
            ],
            [
             0.6666666666666666,
             "#ed7953"
            ],
            [
             0.7777777777777778,
             "#fb9f3a"
            ],
            [
             0.8888888888888888,
             "#fdca26"
            ],
            [
             1,
             "#f0f921"
            ]
           ]
          },
          "colorway": [
           "#636efa",
           "#EF553B",
           "#00cc96",
           "#ab63fa",
           "#FFA15A",
           "#19d3f3",
           "#FF6692",
           "#B6E880",
           "#FF97FF",
           "#FECB52"
          ],
          "font": {
           "color": "#2a3f5f"
          },
          "geo": {
           "bgcolor": "white",
           "lakecolor": "white",
           "landcolor": "#E5ECF6",
           "showlakes": true,
           "showland": true,
           "subunitcolor": "white"
          },
          "hoverlabel": {
           "align": "left"
          },
          "hovermode": "closest",
          "mapbox": {
           "style": "light"
          },
          "paper_bgcolor": "white",
          "plot_bgcolor": "#E5ECF6",
          "polar": {
           "angularaxis": {
            "gridcolor": "white",
            "linecolor": "white",
            "ticks": ""
           },
           "bgcolor": "#E5ECF6",
           "radialaxis": {
            "gridcolor": "white",
            "linecolor": "white",
            "ticks": ""
           }
          },
          "scene": {
           "xaxis": {
            "backgroundcolor": "#E5ECF6",
            "gridcolor": "white",
            "gridwidth": 2,
            "linecolor": "white",
            "showbackground": true,
            "ticks": "",
            "zerolinecolor": "white"
           },
           "yaxis": {
            "backgroundcolor": "#E5ECF6",
            "gridcolor": "white",
            "gridwidth": 2,
            "linecolor": "white",
            "showbackground": true,
            "ticks": "",
            "zerolinecolor": "white"
           },
           "zaxis": {
            "backgroundcolor": "#E5ECF6",
            "gridcolor": "white",
            "gridwidth": 2,
            "linecolor": "white",
            "showbackground": true,
            "ticks": "",
            "zerolinecolor": "white"
           }
          },
          "shapedefaults": {
           "line": {
            "color": "#2a3f5f"
           }
          },
          "ternary": {
           "aaxis": {
            "gridcolor": "white",
            "linecolor": "white",
            "ticks": ""
           },
           "baxis": {
            "gridcolor": "white",
            "linecolor": "white",
            "ticks": ""
           },
           "bgcolor": "#E5ECF6",
           "caxis": {
            "gridcolor": "white",
            "linecolor": "white",
            "ticks": ""
           }
          },
          "title": {
           "x": 0.05
          },
          "xaxis": {
           "automargin": true,
           "gridcolor": "white",
           "linecolor": "white",
           "ticks": "",
           "title": {
            "standoff": 15
           },
           "zerolinecolor": "white",
           "zerolinewidth": 2
          },
          "yaxis": {
           "automargin": true,
           "gridcolor": "white",
           "linecolor": "white",
           "ticks": "",
           "title": {
            "standoff": 15
           },
           "zerolinecolor": "white",
           "zerolinewidth": 2
          }
         }
        },
        "xaxis": {
         "anchor": "y",
         "domain": [
          0,
          0.94
         ]
        },
        "yaxis": {
         "anchor": "x",
         "domain": [
          0,
          1
         ]
        },
        "yaxis2": {
         "anchor": "x",
         "overlaying": "y",
         "side": "right"
        }
       }
      },
      "text/html": [
       "<div>                            <div id=\"3fc420aa-0682-409c-aa5c-ddfd15cb6a1c\" class=\"plotly-graph-div\" style=\"height:525px; width:100%;\"></div>            <script type=\"text/javascript\">                require([\"plotly\"], function(Plotly) {                    window.PLOTLYENV=window.PLOTLYENV || {};                                    if (document.getElementById(\"3fc420aa-0682-409c-aa5c-ddfd15cb6a1c\")) {                    Plotly.newPlot(                        \"3fc420aa-0682-409c-aa5c-ddfd15cb6a1c\",                        [{\"mode\": \"lines\", \"name\": \"delta_percent\", \"type\": \"scatter\", \"x\": [\"2021-02-20T15:32:33-05:00\", \"2021-02-20T15:32:34-05:00\", \"2021-02-20T15:32:35-05:00\", \"2021-02-20T15:32:36-05:00\", \"2021-02-20T15:32:37-05:00\", \"2021-02-20T15:32:38-05:00\", \"2021-02-20T15:32:39-05:00\", \"2021-02-20T15:32:40-05:00\", \"2021-02-20T15:32:41-05:00\", \"2021-02-20T15:32:42-05:00\", \"2021-02-20T15:32:43-05:00\", \"2021-02-20T15:32:45-05:00\", \"2021-02-20T15:32:46-05:00\", \"2021-02-20T15:32:47-05:00\", \"2021-02-20T15:32:48-05:00\", \"2021-02-20T15:32:49-05:00\", \"2021-02-20T15:32:50-05:00\", \"2021-02-20T15:32:52-05:00\", \"2021-02-20T15:32:53-05:00\", \"2021-02-20T15:32:54-05:00\", \"2021-02-20T15:32:55-05:00\", \"2021-02-20T15:32:56-05:00\", \"2021-02-20T15:32:57-05:00\", \"2021-02-20T15:32:58-05:00\", \"2021-02-20T15:32:59-05:00\", \"2021-02-20T15:33:00-05:00\", \"2021-02-20T15:33:01-05:00\", \"2021-02-20T15:33:02-05:00\", \"2021-02-20T15:33:03-05:00\", \"2021-02-20T15:33:04-05:00\", \"2021-02-20T15:33:05-05:00\", \"2021-02-20T15:33:06-05:00\", \"2021-02-20T15:33:08-05:00\", \"2021-02-20T15:33:09-05:00\", \"2021-02-20T15:33:10-05:00\"], \"xaxis\": \"x\", \"y\": [-0.027010966452384055, -0.01800731096826165, -0.03601462193650646, -0.0018007310968413172, -0.0018007310968413172, -0.0018007310968413172, -0.0018007310968413172, -0.016206579871437168, 0.0036014621936489625, 0.027010966452367214, 0.0054021932904734435, 0.012605117677771371, 0.01620657987142033, 0.023409504258718256, -0.057623395098417074, -0.05942412619524155, -0.039616084130172265, -0.039616084130172265, -0.01800731096826165, -0.021608773161910608, -0.01800731096826165, -0.01800731096826165, -0.014405848774612684, -0.012605117677788205, -0.01800731096826165, 0.007202924387297925, 0.007202924387297925, 0.007202924387297925, 0.028811697549208537, 0.028811697549208537, 0.027010966452367214, 0.027010966452367214, 0.0, -0.04141681522699674, -0.04141681522699674], \"yaxis\": \"y\"}, {\"mode\": \"lines\", \"name\": \"window_delta_percent\", \"type\": \"scatter\", \"x\": [\"2021-02-20T15:32:33-05:00\", \"2021-02-20T15:32:34-05:00\", \"2021-02-20T15:32:35-05:00\", \"2021-02-20T15:32:36-05:00\", \"2021-02-20T15:32:37-05:00\", \"2021-02-20T15:32:38-05:00\", \"2021-02-20T15:32:39-05:00\", \"2021-02-20T15:32:40-05:00\", \"2021-02-20T15:32:41-05:00\", \"2021-02-20T15:32:42-05:00\", \"2021-02-20T15:32:43-05:00\", \"2021-02-20T15:32:45-05:00\", \"2021-02-20T15:32:46-05:00\", \"2021-02-20T15:32:47-05:00\", \"2021-02-20T15:32:48-05:00\", \"2021-02-20T15:32:49-05:00\", \"2021-02-20T15:32:50-05:00\", \"2021-02-20T15:32:52-05:00\", \"2021-02-20T15:32:53-05:00\", \"2021-02-20T15:32:54-05:00\", \"2021-02-20T15:32:55-05:00\", \"2021-02-20T15:32:56-05:00\", \"2021-02-20T15:32:57-05:00\", \"2021-02-20T15:32:58-05:00\", \"2021-02-20T15:32:59-05:00\", \"2021-02-20T15:33:00-05:00\", \"2021-02-20T15:33:01-05:00\", \"2021-02-20T15:33:02-05:00\", \"2021-02-20T15:33:03-05:00\", \"2021-02-20T15:33:04-05:00\", \"2021-02-20T15:33:05-05:00\", \"2021-02-20T15:33:06-05:00\", \"2021-02-20T15:33:08-05:00\", \"2021-02-20T15:33:09-05:00\", \"2021-02-20T15:33:10-05:00\"], \"xaxis\": \"x\", \"y\": [-0.00027010966452384056, -0.0001800731096826165, -0.0003601462193650646, -1.8007310968413172e-05, -1.8007310968413172e-05, -1.8007310968413172e-05, -1.8007310968413172e-05, -0.00016206579871437166, 3.6014621936489625e-05, 0.0002701096645236722, 5.4021932904734444e-05, 0.00012605117677771366, 0.0001620657987142033, 0.00023409504258718256, -0.0005762339509841707, -0.0005942412619524155, -0.0003961608413017226, -0.0003961608413017226, -0.0001800731096826165, -0.00021608773161910607, 9.006088115561973e-05, 0.0, 0.00021616558283635312, -0.00010804581142399402, -0.00016206871713599105, 9.003817618683004e-05, 9.003817618683004e-05, 0.00023413298753698148, 0.0002520932745116215, 1.80024483331333e-05, 0.00021607605877258846, 0.0001440403312926956, -0.00016203953764711126, -0.0006481114751737679, 0.00016215924037397264], \"yaxis\": \"y2\"}],                        {\"template\": {\"data\": {\"bar\": [{\"error_x\": {\"color\": \"#2a3f5f\"}, \"error_y\": {\"color\": \"#2a3f5f\"}, \"marker\": {\"line\": {\"color\": \"#E5ECF6\", \"width\": 0.5}}, \"type\": \"bar\"}], \"barpolar\": [{\"marker\": {\"line\": {\"color\": \"#E5ECF6\", \"width\": 0.5}}, \"type\": \"barpolar\"}], \"carpet\": [{\"aaxis\": {\"endlinecolor\": \"#2a3f5f\", \"gridcolor\": \"white\", \"linecolor\": \"white\", \"minorgridcolor\": \"white\", \"startlinecolor\": \"#2a3f5f\"}, \"baxis\": {\"endlinecolor\": \"#2a3f5f\", \"gridcolor\": \"white\", \"linecolor\": \"white\", \"minorgridcolor\": \"white\", \"startlinecolor\": \"#2a3f5f\"}, \"type\": \"carpet\"}], \"choropleth\": [{\"colorbar\": {\"outlinewidth\": 0, \"ticks\": \"\"}, \"type\": \"choropleth\"}], \"contour\": [{\"colorbar\": {\"outlinewidth\": 0, \"ticks\": \"\"}, \"colorscale\": [[0.0, \"#0d0887\"], [0.1111111111111111, \"#46039f\"], [0.2222222222222222, \"#7201a8\"], [0.3333333333333333, \"#9c179e\"], [0.4444444444444444, \"#bd3786\"], [0.5555555555555556, \"#d8576b\"], [0.6666666666666666, \"#ed7953\"], [0.7777777777777778, \"#fb9f3a\"], [0.8888888888888888, \"#fdca26\"], [1.0, \"#f0f921\"]], \"type\": \"contour\"}], \"contourcarpet\": [{\"colorbar\": {\"outlinewidth\": 0, \"ticks\": \"\"}, \"type\": \"contourcarpet\"}], \"heatmap\": [{\"colorbar\": {\"outlinewidth\": 0, \"ticks\": \"\"}, \"colorscale\": [[0.0, \"#0d0887\"], [0.1111111111111111, \"#46039f\"], [0.2222222222222222, \"#7201a8\"], [0.3333333333333333, \"#9c179e\"], [0.4444444444444444, \"#bd3786\"], [0.5555555555555556, \"#d8576b\"], [0.6666666666666666, \"#ed7953\"], [0.7777777777777778, \"#fb9f3a\"], [0.8888888888888888, \"#fdca26\"], [1.0, \"#f0f921\"]], \"type\": \"heatmap\"}], \"heatmapgl\": [{\"colorbar\": {\"outlinewidth\": 0, \"ticks\": \"\"}, \"colorscale\": [[0.0, \"#0d0887\"], [0.1111111111111111, \"#46039f\"], [0.2222222222222222, \"#7201a8\"], [0.3333333333333333, \"#9c179e\"], [0.4444444444444444, \"#bd3786\"], [0.5555555555555556, \"#d8576b\"], [0.6666666666666666, \"#ed7953\"], [0.7777777777777778, \"#fb9f3a\"], [0.8888888888888888, \"#fdca26\"], [1.0, \"#f0f921\"]], \"type\": \"heatmapgl\"}], \"histogram\": [{\"marker\": {\"colorbar\": {\"outlinewidth\": 0, \"ticks\": \"\"}}, \"type\": \"histogram\"}], \"histogram2d\": [{\"colorbar\": {\"outlinewidth\": 0, \"ticks\": \"\"}, \"colorscale\": [[0.0, \"#0d0887\"], [0.1111111111111111, \"#46039f\"], [0.2222222222222222, \"#7201a8\"], [0.3333333333333333, \"#9c179e\"], [0.4444444444444444, \"#bd3786\"], [0.5555555555555556, \"#d8576b\"], [0.6666666666666666, \"#ed7953\"], [0.7777777777777778, \"#fb9f3a\"], [0.8888888888888888, \"#fdca26\"], [1.0, \"#f0f921\"]], \"type\": \"histogram2d\"}], \"histogram2dcontour\": [{\"colorbar\": {\"outlinewidth\": 0, \"ticks\": \"\"}, \"colorscale\": [[0.0, \"#0d0887\"], [0.1111111111111111, \"#46039f\"], [0.2222222222222222, \"#7201a8\"], [0.3333333333333333, \"#9c179e\"], [0.4444444444444444, \"#bd3786\"], [0.5555555555555556, \"#d8576b\"], [0.6666666666666666, \"#ed7953\"], [0.7777777777777778, \"#fb9f3a\"], [0.8888888888888888, \"#fdca26\"], [1.0, \"#f0f921\"]], \"type\": \"histogram2dcontour\"}], \"mesh3d\": [{\"colorbar\": {\"outlinewidth\": 0, \"ticks\": \"\"}, \"type\": \"mesh3d\"}], \"parcoords\": [{\"line\": {\"colorbar\": {\"outlinewidth\": 0, \"ticks\": \"\"}}, \"type\": \"parcoords\"}], \"pie\": [{\"automargin\": true, \"type\": \"pie\"}], \"scatter\": [{\"marker\": {\"colorbar\": {\"outlinewidth\": 0, \"ticks\": \"\"}}, \"type\": \"scatter\"}], \"scatter3d\": [{\"line\": {\"colorbar\": {\"outlinewidth\": 0, \"ticks\": \"\"}}, \"marker\": {\"colorbar\": {\"outlinewidth\": 0, \"ticks\": \"\"}}, \"type\": \"scatter3d\"}], \"scattercarpet\": [{\"marker\": {\"colorbar\": {\"outlinewidth\": 0, \"ticks\": \"\"}}, \"type\": \"scattercarpet\"}], \"scattergeo\": [{\"marker\": {\"colorbar\": {\"outlinewidth\": 0, \"ticks\": \"\"}}, \"type\": \"scattergeo\"}], \"scattergl\": [{\"marker\": {\"colorbar\": {\"outlinewidth\": 0, \"ticks\": \"\"}}, \"type\": \"scattergl\"}], \"scattermapbox\": [{\"marker\": {\"colorbar\": {\"outlinewidth\": 0, \"ticks\": \"\"}}, \"type\": \"scattermapbox\"}], \"scatterpolar\": [{\"marker\": {\"colorbar\": {\"outlinewidth\": 0, \"ticks\": \"\"}}, \"type\": \"scatterpolar\"}], \"scatterpolargl\": [{\"marker\": {\"colorbar\": {\"outlinewidth\": 0, \"ticks\": \"\"}}, \"type\": \"scatterpolargl\"}], \"scatterternary\": [{\"marker\": {\"colorbar\": {\"outlinewidth\": 0, \"ticks\": \"\"}}, \"type\": \"scatterternary\"}], \"surface\": [{\"colorbar\": {\"outlinewidth\": 0, \"ticks\": \"\"}, \"colorscale\": [[0.0, \"#0d0887\"], [0.1111111111111111, \"#46039f\"], [0.2222222222222222, \"#7201a8\"], [0.3333333333333333, \"#9c179e\"], [0.4444444444444444, \"#bd3786\"], [0.5555555555555556, \"#d8576b\"], [0.6666666666666666, \"#ed7953\"], [0.7777777777777778, \"#fb9f3a\"], [0.8888888888888888, \"#fdca26\"], [1.0, \"#f0f921\"]], \"type\": \"surface\"}], \"table\": [{\"cells\": {\"fill\": {\"color\": \"#EBF0F8\"}, \"line\": {\"color\": \"white\"}}, \"header\": {\"fill\": {\"color\": \"#C8D4E3\"}, \"line\": {\"color\": \"white\"}}, \"type\": \"table\"}]}, \"layout\": {\"annotationdefaults\": {\"arrowcolor\": \"#2a3f5f\", \"arrowhead\": 0, \"arrowwidth\": 1}, \"coloraxis\": {\"colorbar\": {\"outlinewidth\": 0, \"ticks\": \"\"}}, \"colorscale\": {\"diverging\": [[0, \"#8e0152\"], [0.1, \"#c51b7d\"], [0.2, \"#de77ae\"], [0.3, \"#f1b6da\"], [0.4, \"#fde0ef\"], [0.5, \"#f7f7f7\"], [0.6, \"#e6f5d0\"], [0.7, \"#b8e186\"], [0.8, \"#7fbc41\"], [0.9, \"#4d9221\"], [1, \"#276419\"]], \"sequential\": [[0.0, \"#0d0887\"], [0.1111111111111111, \"#46039f\"], [0.2222222222222222, \"#7201a8\"], [0.3333333333333333, \"#9c179e\"], [0.4444444444444444, \"#bd3786\"], [0.5555555555555556, \"#d8576b\"], [0.6666666666666666, \"#ed7953\"], [0.7777777777777778, \"#fb9f3a\"], [0.8888888888888888, \"#fdca26\"], [1.0, \"#f0f921\"]], \"sequentialminus\": [[0.0, \"#0d0887\"], [0.1111111111111111, \"#46039f\"], [0.2222222222222222, \"#7201a8\"], [0.3333333333333333, \"#9c179e\"], [0.4444444444444444, \"#bd3786\"], [0.5555555555555556, \"#d8576b\"], [0.6666666666666666, \"#ed7953\"], [0.7777777777777778, \"#fb9f3a\"], [0.8888888888888888, \"#fdca26\"], [1.0, \"#f0f921\"]]}, \"colorway\": [\"#636efa\", \"#EF553B\", \"#00cc96\", \"#ab63fa\", \"#FFA15A\", \"#19d3f3\", \"#FF6692\", \"#B6E880\", \"#FF97FF\", \"#FECB52\"], \"font\": {\"color\": \"#2a3f5f\"}, \"geo\": {\"bgcolor\": \"white\", \"lakecolor\": \"white\", \"landcolor\": \"#E5ECF6\", \"showlakes\": true, \"showland\": true, \"subunitcolor\": \"white\"}, \"hoverlabel\": {\"align\": \"left\"}, \"hovermode\": \"closest\", \"mapbox\": {\"style\": \"light\"}, \"paper_bgcolor\": \"white\", \"plot_bgcolor\": \"#E5ECF6\", \"polar\": {\"angularaxis\": {\"gridcolor\": \"white\", \"linecolor\": \"white\", \"ticks\": \"\"}, \"bgcolor\": \"#E5ECF6\", \"radialaxis\": {\"gridcolor\": \"white\", \"linecolor\": \"white\", \"ticks\": \"\"}}, \"scene\": {\"xaxis\": {\"backgroundcolor\": \"#E5ECF6\", \"gridcolor\": \"white\", \"gridwidth\": 2, \"linecolor\": \"white\", \"showbackground\": true, \"ticks\": \"\", \"zerolinecolor\": \"white\"}, \"yaxis\": {\"backgroundcolor\": \"#E5ECF6\", \"gridcolor\": \"white\", \"gridwidth\": 2, \"linecolor\": \"white\", \"showbackground\": true, \"ticks\": \"\", \"zerolinecolor\": \"white\"}, \"zaxis\": {\"backgroundcolor\": \"#E5ECF6\", \"gridcolor\": \"white\", \"gridwidth\": 2, \"linecolor\": \"white\", \"showbackground\": true, \"ticks\": \"\", \"zerolinecolor\": \"white\"}}, \"shapedefaults\": {\"line\": {\"color\": \"#2a3f5f\"}}, \"ternary\": {\"aaxis\": {\"gridcolor\": \"white\", \"linecolor\": \"white\", \"ticks\": \"\"}, \"baxis\": {\"gridcolor\": \"white\", \"linecolor\": \"white\", \"ticks\": \"\"}, \"bgcolor\": \"#E5ECF6\", \"caxis\": {\"gridcolor\": \"white\", \"linecolor\": \"white\", \"ticks\": \"\"}}, \"title\": {\"x\": 0.05}, \"xaxis\": {\"automargin\": true, \"gridcolor\": \"white\", \"linecolor\": \"white\", \"ticks\": \"\", \"title\": {\"standoff\": 15}, \"zerolinecolor\": \"white\", \"zerolinewidth\": 2}, \"yaxis\": {\"automargin\": true, \"gridcolor\": \"white\", \"linecolor\": \"white\", \"ticks\": \"\", \"title\": {\"standoff\": 15}, \"zerolinecolor\": \"white\", \"zerolinewidth\": 2}}}, \"xaxis\": {\"anchor\": \"y\", \"domain\": [0.0, 0.94]}, \"yaxis\": {\"anchor\": \"x\", \"domain\": [0.0, 1.0]}, \"yaxis2\": {\"anchor\": \"x\", \"overlaying\": \"y\", \"side\": \"right\"}},                        {\"responsive\": true}                    ).then(function(){\n",
       "                            \n",
       "var gd = document.getElementById('3fc420aa-0682-409c-aa5c-ddfd15cb6a1c');\n",
       "var x = new MutationObserver(function (mutations, observer) {{\n",
       "        var display = window.getComputedStyle(gd).display;\n",
       "        if (!display || display === 'none') {{\n",
       "            console.log([gd, 'removed!']);\n",
       "            Plotly.purge(gd);\n",
       "            observer.disconnect();\n",
       "        }}\n",
       "}});\n",
       "\n",
       "// Listen for the removal of the full notebook cells\n",
       "var notebookContainer = gd.closest('#notebook-container');\n",
       "if (notebookContainer) {{\n",
       "    x.observe(notebookContainer, {childList: true});\n",
       "}}\n",
       "\n",
       "// Listen for the clearing of the current output cell\n",
       "var outputEl = gd.closest('.output');\n",
       "if (outputEl) {{\n",
       "    x.observe(outputEl, {childList: true});\n",
       "}}\n",
       "\n",
       "                        })                };                });            </script>        </div>"
      ]
     },
     "metadata": {},
     "output_type": "display_data"
    }
   ],
   "source": [
    "# df = df.reset_index()\n",
    "# df = df.set_index(['date','symbol'])\n",
    "# for (index, row) in df.iterrows(): \n",
    "#     print(index, len(row))\n",
    "from plotly.subplots import make_subplots\n",
    "\n",
    "# Create figure with secondary y-axis\n",
    "fig = make_subplots(specs=[[{\"secondary_y\": True}]])\n",
    "\n",
    "\n",
    "\n",
    "# fig = go.Figure()\n",
    "fig.add_trace(go.Scatter(x=df['date'], y=df['delta_percent'],\n",
    "                    mode='lines',\n",
    "                    name='delta_percent',\n",
    "                        ),\n",
    "                  secondary_y=False\n",
    "             )\n",
    "fig.add_trace(go.Scatter(x=df['date'], y=df['window_delta_percent'],\n",
    "                    mode='lines',\n",
    "                    name='window_delta_percent',\n",
    "                        ),\n",
    "               secondary_y=True,\n",
    "             )\n",
    "# fig.add_trace(go.Scatter(x=random_x, y=random_y2,\n",
    "#                     mode='markers', name='markers'))\n",
    "\n",
    "fig.show()\n"
   ]
  },
  {
   "cell_type": "code",
   "execution_count": 150,
   "metadata": {},
   "outputs": [
    {
     "data": {
      "text/html": [
       "<div>\n",
       "<style scoped>\n",
       "    .dataframe tbody tr th:only-of-type {\n",
       "        vertical-align: middle;\n",
       "    }\n",
       "\n",
       "    .dataframe tbody tr th {\n",
       "        vertical-align: top;\n",
       "    }\n",
       "\n",
       "    .dataframe thead th {\n",
       "        text-align: right;\n",
       "    }\n",
       "</style>\n",
       "<table border=\"1\" class=\"dataframe\">\n",
       "  <thead>\n",
       "    <tr style=\"text-align: right;\">\n",
       "      <th></th>\n",
       "      <th>ask_price</th>\n",
       "      <th>bid_price</th>\n",
       "      <th>mark_price</th>\n",
       "      <th>high_price</th>\n",
       "      <th>low_price</th>\n",
       "      <th>open_price</th>\n",
       "      <th>symbol</th>\n",
       "      <th>id</th>\n",
       "      <th>volume</th>\n",
       "      <th>delta</th>\n",
       "      <th>delta_percent</th>\n",
       "      <th>window_delta</th>\n",
       "      <th>window_delta_percent</th>\n",
       "      <th>date</th>\n",
       "    </tr>\n",
       "  </thead>\n",
       "  <tbody>\n",
       "    <tr>\n",
       "      <th>0</th>\n",
       "      <td>0.055580</td>\n",
       "      <td>0.055518</td>\n",
       "      <td>0.055549</td>\n",
       "      <td>0.061013</td>\n",
       "      <td>0.053219</td>\n",
       "      <td>0.05358</td>\n",
       "      <td>DOGEUSD</td>\n",
       "      <td>1ef78e1b-049b-4f12-90e5-555dcf2fe204</td>\n",
       "      <td>0.0</td>\n",
       "      <td>-0.001425</td>\n",
       "      <td>-0.027011</td>\n",
       "      <td>-0.001425</td>\n",
       "      <td>-0.000270</td>\n",
       "      <td>2021-02-20T15:32:33-05:00</td>\n",
       "    </tr>\n",
       "    <tr>\n",
       "      <th>1</th>\n",
       "      <td>0.055584</td>\n",
       "      <td>0.055523</td>\n",
       "      <td>0.055553</td>\n",
       "      <td>0.061013</td>\n",
       "      <td>0.053219</td>\n",
       "      <td>0.05358</td>\n",
       "      <td>DOGEUSD</td>\n",
       "      <td>1ef78e1b-049b-4f12-90e5-555dcf2fe204</td>\n",
       "      <td>0.0</td>\n",
       "      <td>-0.000950</td>\n",
       "      <td>-0.018007</td>\n",
       "      <td>-0.000950</td>\n",
       "      <td>-0.000180</td>\n",
       "      <td>2021-02-20T15:32:34-05:00</td>\n",
       "    </tr>\n",
       "    <tr>\n",
       "      <th>2</th>\n",
       "      <td>0.055562</td>\n",
       "      <td>0.055513</td>\n",
       "      <td>0.055537</td>\n",
       "      <td>0.061013</td>\n",
       "      <td>0.053219</td>\n",
       "      <td>0.05358</td>\n",
       "      <td>DOGEUSD</td>\n",
       "      <td>1ef78e1b-049b-4f12-90e5-555dcf2fe204</td>\n",
       "      <td>0.0</td>\n",
       "      <td>-0.001900</td>\n",
       "      <td>-0.036015</td>\n",
       "      <td>-0.001900</td>\n",
       "      <td>-0.000360</td>\n",
       "      <td>2021-02-20T15:32:35-05:00</td>\n",
       "    </tr>\n",
       "    <tr>\n",
       "      <th>3</th>\n",
       "      <td>0.055583</td>\n",
       "      <td>0.055532</td>\n",
       "      <td>0.055557</td>\n",
       "      <td>0.061013</td>\n",
       "      <td>0.053219</td>\n",
       "      <td>0.05358</td>\n",
       "      <td>DOGEUSD</td>\n",
       "      <td>1ef78e1b-049b-4f12-90e5-555dcf2fe204</td>\n",
       "      <td>0.0</td>\n",
       "      <td>-0.000095</td>\n",
       "      <td>-0.001801</td>\n",
       "      <td>-0.000095</td>\n",
       "      <td>-0.000018</td>\n",
       "      <td>2021-02-20T15:32:36-05:00</td>\n",
       "    </tr>\n",
       "    <tr>\n",
       "      <th>4</th>\n",
       "      <td>0.055587</td>\n",
       "      <td>0.055532</td>\n",
       "      <td>0.055559</td>\n",
       "      <td>0.061013</td>\n",
       "      <td>0.053219</td>\n",
       "      <td>0.05358</td>\n",
       "      <td>DOGEUSD</td>\n",
       "      <td>1ef78e1b-049b-4f12-90e5-555dcf2fe204</td>\n",
       "      <td>0.0</td>\n",
       "      <td>-0.000095</td>\n",
       "      <td>-0.001801</td>\n",
       "      <td>-0.000095</td>\n",
       "      <td>-0.000018</td>\n",
       "      <td>2021-02-20T15:32:37-05:00</td>\n",
       "    </tr>\n",
       "  </tbody>\n",
       "</table>\n",
       "</div>"
      ],
      "text/plain": [
       "   ask_price  bid_price  mark_price  high_price  low_price  open_price  \\\n",
       "0   0.055580   0.055518    0.055549    0.061013   0.053219     0.05358   \n",
       "1   0.055584   0.055523    0.055553    0.061013   0.053219     0.05358   \n",
       "2   0.055562   0.055513    0.055537    0.061013   0.053219     0.05358   \n",
       "3   0.055583   0.055532    0.055557    0.061013   0.053219     0.05358   \n",
       "4   0.055587   0.055532    0.055559    0.061013   0.053219     0.05358   \n",
       "\n",
       "    symbol                                    id  volume     delta  \\\n",
       "0  DOGEUSD  1ef78e1b-049b-4f12-90e5-555dcf2fe204     0.0 -0.001425   \n",
       "1  DOGEUSD  1ef78e1b-049b-4f12-90e5-555dcf2fe204     0.0 -0.000950   \n",
       "2  DOGEUSD  1ef78e1b-049b-4f12-90e5-555dcf2fe204     0.0 -0.001900   \n",
       "3  DOGEUSD  1ef78e1b-049b-4f12-90e5-555dcf2fe204     0.0 -0.000095   \n",
       "4  DOGEUSD  1ef78e1b-049b-4f12-90e5-555dcf2fe204     0.0 -0.000095   \n",
       "\n",
       "   delta_percent  window_delta  window_delta_percent  \\\n",
       "0      -0.027011     -0.001425             -0.000270   \n",
       "1      -0.018007     -0.000950             -0.000180   \n",
       "2      -0.036015     -0.001900             -0.000360   \n",
       "3      -0.001801     -0.000095             -0.000018   \n",
       "4      -0.001801     -0.000095             -0.000018   \n",
       "\n",
       "                        date  \n",
       "0  2021-02-20T15:32:33-05:00  \n",
       "1  2021-02-20T15:32:34-05:00  \n",
       "2  2021-02-20T15:32:35-05:00  \n",
       "3  2021-02-20T15:32:36-05:00  \n",
       "4  2021-02-20T15:32:37-05:00  "
      ]
     },
     "execution_count": 150,
     "metadata": {},
     "output_type": "execute_result"
    }
   ],
   "source": [
    "df.head()"
   ]
  },
  {
   "cell_type": "code",
   "execution_count": null,
   "metadata": {},
   "outputs": [],
   "source": []
  },
  {
   "cell_type": "code",
   "execution_count": null,
   "metadata": {},
   "outputs": [],
   "source": []
  }
 ],
 "metadata": {
  "kernelspec": {
   "display_name": "Python 3",
   "language": "python",
   "name": "python3"
  },
  "language_info": {
   "codemirror_mode": {
    "name": "ipython",
    "version": 3
   },
   "file_extension": ".py",
   "mimetype": "text/x-python",
   "name": "python",
   "nbconvert_exporter": "python",
   "pygments_lexer": "ipython3",
   "version": "3.9.1"
  }
 },
 "nbformat": 4,
 "nbformat_minor": 4
}
