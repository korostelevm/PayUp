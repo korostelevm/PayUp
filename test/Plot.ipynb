{
 "cells": [
  {
   "cell_type": "code",
   "execution_count": 14,
   "metadata": {},
   "outputs": [],
   "source": [
    "import pandas as pd\n",
    "import numpy as np\n",
    "import matplotlib\n",
    "from IPython.display import clear_output\n",
    "import time\n",
    "import plotly.graph_objects as go\n",
    "\n",
    "from plotly.subplots import make_subplots\n",
    "\n",
    "    # df = df.reset_index()\n",
    "# df = df.set_index(['date','symbol'])\n",
    "# for (index, row) in df.iterrows(): \n",
    "#     print(index, len(row))"
   ]
  },
  {
   "cell_type": "code",
   "execution_count": 25,
   "metadata": {
    "scrolled": false
   },
   "outputs": [
    {
     "ename": "KeyboardInterrupt",
     "evalue": "",
     "output_type": "error",
     "traceback": [
      "\u001b[0;31m---------------------------------------------------------------------------\u001b[0m",
      "\u001b[0;31mKeyboardInterrupt\u001b[0m                         Traceback (most recent call last)",
      "\u001b[0;32m<ipython-input-25-f4953fea0e7b>\u001b[0m in \u001b[0;36m<module>\u001b[0;34m\u001b[0m\n\u001b[1;32m      1\u001b[0m \u001b[0;32mwhile\u001b[0m \u001b[0;32mTrue\u001b[0m\u001b[0;34m:\u001b[0m\u001b[0;34m\u001b[0m\u001b[0;34m\u001b[0m\u001b[0m\n\u001b[1;32m      2\u001b[0m     \u001b[0mclear_output\u001b[0m\u001b[0;34m(\u001b[0m\u001b[0mwait\u001b[0m\u001b[0;34m=\u001b[0m\u001b[0;32mTrue\u001b[0m\u001b[0;34m)\u001b[0m\u001b[0;34m\u001b[0m\u001b[0;34m\u001b[0m\u001b[0m\n\u001b[0;32m----> 3\u001b[0;31m     \u001b[0mtime\u001b[0m\u001b[0;34m.\u001b[0m\u001b[0msleep\u001b[0m\u001b[0;34m(\u001b[0m\u001b[0;36m1\u001b[0m\u001b[0;34m)\u001b[0m\u001b[0;34m\u001b[0m\u001b[0;34m\u001b[0m\u001b[0m\n\u001b[0m\u001b[1;32m      4\u001b[0m \u001b[0;34m\u001b[0m\u001b[0m\n\u001b[1;32m      5\u001b[0m \u001b[0;31m#     df = pd.read_csv(\"BTC.csv\")\u001b[0m\u001b[0;34m\u001b[0m\u001b[0;34m\u001b[0m\u001b[0;34m\u001b[0m\u001b[0m\n",
      "\u001b[0;31mKeyboardInterrupt\u001b[0m: "
     ]
    }
   ],
   "source": [
    "while True:\n",
    "    clear_output(wait=True)\n",
    "    time.sleep(1)\n",
    "\n",
    "#     df = pd.read_csv(\"BTC.csv\")\n",
    "# #     df = df.tail(400)\n",
    "#     fig = make_subplots(specs=[[{\"secondary_y\": True}]])\n",
    "#     fig.add_trace(go.Scatter(x=df['date'], y=df['delta_percent'],\n",
    "#                         mode='lines',\n",
    "#                         name='delta_percent',\n",
    "#                             ),\n",
    "#                       secondary_y=False\n",
    "#                  )\n",
    "#     fig.add_trace(go.Scatter(x=df['date'], y=df['window_delta_percent'],\n",
    "#                         mode='lines',\n",
    "#                         name='window_delta_percent',\n",
    "#                             ),\n",
    "#                    secondary_y=True,\n",
    "#                  )\n",
    "#     fig.show()\n",
    "    \n",
    "    df = pd.read_csv(\"DOGE1.csv\")\n",
    "    df = df.tail(50)\n",
    "    d = df.query('state==\"not_holding\"')\n",
    "    fig = make_subplots(specs=[[{\"secondary_y\": True}]])\n",
    "    fig.add_trace(go.Scatter(x=df['date'], y=df['delta_percent'],\n",
    "                        mode='lines',\n",
    "                        name='delta_percent',\n",
    "                            ),\n",
    "                      secondary_y=False\n",
    "                 )\n",
    "    fig.add_trace(go.Scatter(x=df['date'], y=df['window_delta_percent'],\n",
    "                        mode='lines',\n",
    "                        name='window_delta_percent',\n",
    "                            ),\n",
    "                   secondary_y=True,\n",
    "                 )\n",
    "    fig.add_trace(go.Scatter(x=d['date'], y=d['window_delta_percent'],\n",
    "                mode='lines',\n",
    "                name='window_delta_percent',\n",
    "                    ),\n",
    "           secondary_y=True,\n",
    "         )\n",
    "    fig.show()\n",
    "\n",
    "\n",
    "#     break"
   ]
  },
  {
   "cell_type": "code",
   "execution_count": null,
   "metadata": {},
   "outputs": [],
   "source": [
    "df.head()\n",
    "\n"
   ]
  },
  {
   "cell_type": "code",
   "execution_count": null,
   "metadata": {},
   "outputs": [],
   "source": []
  }
 ],
 "metadata": {
  "kernelspec": {
   "display_name": "Python 3",
   "language": "python",
   "name": "python3"
  },
  "language_info": {
   "codemirror_mode": {
    "name": "ipython",
    "version": 3
   },
   "file_extension": ".py",
   "mimetype": "text/x-python",
   "name": "python",
   "nbconvert_exporter": "python",
   "pygments_lexer": "ipython3",
   "version": "3.9.1"
  }
 },
 "nbformat": 4,
 "nbformat_minor": 4
}
